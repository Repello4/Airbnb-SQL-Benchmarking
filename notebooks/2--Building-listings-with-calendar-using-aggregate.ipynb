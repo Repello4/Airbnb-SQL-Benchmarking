{
 "cells": [
  {
   "cell_type": "code",
   "execution_count": 1,
   "id": "288becbf-a66c-4bfc-ad60-cf6415e5aa42",
   "metadata": {},
   "outputs": [],
   "source": [
    "import sys\n",
    "import json\n",
    "import csv\n",
    "import yaml\n",
    "\n",
    "import importlib\n",
    "\n",
    "import pandas as pd\n",
    "import numpy as np\n",
    "\n",
    "import matplotlib as mpl\n",
    "import matplotlib.pyplot as plt\n",
    "import os\n",
    "from dotenv import load_dotenv\n",
    "\n",
    "from datetime import time\n",
    "from datetime import date\n",
    "from datetime import datetime\n",
    "# with the above choices, the imported datetime.time(2023,07,01) is recognized\n",
    "# from datetime import date\n",
    "# from datetime import datetime\n",
    "\n",
    "import pprint\n",
    "\n",
    "import psycopg2\n",
    "from sqlalchemy import create_engine, text as sql_text\n",
    "\n",
    "# Create an utilities file util.py in a folder benchmarking and import it\n",
    "sys.path.append('helper_functions/')\n",
    "# import util as util\n",
    "import util"
   ]
  },
  {
   "cell_type": "code",
   "execution_count": 2,
   "id": "0abf73f6-a742-4671-9809-9ff0f3192e26",
   "metadata": {},
   "outputs": [],
   "source": [
    "from pymongo import MongoClient\n",
    "\n",
    "client = MongoClient()"
   ]
  },
  {
   "cell_type": "code",
   "execution_count": 3,
   "id": "5839fbc1-df70-4c00-b04a-21e63bd1f529",
   "metadata": {},
   "outputs": [
    {
     "name": "stdout",
     "output_type": "stream",
     "text": [
      "The list of all databases currently in the MongoDB client is:\n",
      "['admin', 'airbnb', 'config', 'local', 'test']\n",
      "\n",
      "The list of all collections in the airbnb database is:\n",
      "['listings', 'listings_with_calendar', 'reviews', 'listings_with_reviews_and_cal', 'listings_with_reviews_m', 'calendar']\n"
     ]
    }
   ],
   "source": [
    "db = client.airbnb\n",
    "\n",
    "\n",
    "print('The list of all databases currently in the MongoDB client is:')\n",
    "print(client.list_database_names())\n",
    "\n",
    "print('\\nThe list of all collections in the airbnb database is:')\n",
    "print(db.list_collection_names())"
   ]
  },
  {
   "cell_type": "code",
   "execution_count": 5,
   "id": "79640fbf-0a56-4f99-8e9e-5aa3ea33793a",
   "metadata": {},
   "outputs": [
    {
     "name": "stderr",
     "output_type": "stream",
     "text": [
      "C:\\Users\\Reason\\AppData\\Local\\Temp\\ipykernel_22016\\199888413.py:3: DtypeWarning: Columns (5,6) have mixed types. Specify dtype option on import or set low_memory=False.\n",
      "  calendar_df = pd.read_csv('Data/calendar.csv',dtype=dtype, keep_default_na = False)\n"
     ]
    }
   ],
   "source": [
    "dtype = {\"listing_id\": str, \"date\": str, \"available\": str, \n",
    "        \"price\": str, \"adjusted_price\": str}\n",
    "calendar_df = pd.read_csv('Data/calendar.csv',dtype=dtype, keep_default_na = False)"
   ]
  },
  {
   "cell_type": "code",
   "execution_count": 6,
   "id": "2c9be955-8431-4e9f-bf25-202ce4efa285",
   "metadata": {},
   "outputs": [
    {
     "name": "stdout",
     "output_type": "stream",
     "text": [
      "The datatypes for the fields of df are:\n",
      "listing_id        object\n",
      "date              object\n",
      "available         object\n",
      "price             object\n",
      "adjusted_price    object\n",
      "minimum_nights    object\n",
      "maximum_nights    object\n",
      "dtype: object\n",
      "\n",
      "The first few rows of df are:\n",
      "  listing_id        date available    price adjusted_price minimum_nights  \\\n",
      "0     144087  2024-02-10         t  $259.00                            30   \n",
      "1     144087  2024-02-11         t  $259.00                            30   \n",
      "2     144087  2024-02-12         t  $259.00                            30   \n",
      "3     144087  2024-02-13         t  $259.00                            30   \n",
      "4     144087  2024-02-14         t  $259.00                            30   \n",
      "\n",
      "  maximum_nights  \n",
      "0            365  \n",
      "1            365  \n",
      "2            365  \n",
      "3            365  \n",
      "4            365  \n"
     ]
    }
   ],
   "source": [
    "#First few views\n",
    "print('The datatypes for the fields of df are:')\n",
    "print(calendar_df.dtypes)\n",
    "\n",
    "print('\\nThe first few rows of df are:')\n",
    "print(calendar_df.head())"
   ]
  },
  {
   "cell_type": "code",
   "execution_count": 7,
   "id": "5452435e-a3c1-4661-93cf-0b0ef9ec54d1",
   "metadata": {},
   "outputs": [],
   "source": [
    "importlib.reload(util)\n",
    "calendar_df['date'] = calendar_df['date'].apply(util.convert_date_str_to_datetime)\n",
    "calendar_df['available'] = calendar_df['available'].apply(util.convert_tf_to_boolean)"
   ]
  },
  {
   "cell_type": "code",
   "execution_count": 8,
   "id": "40ffb36d-d1ed-4cb3-9cf1-c68b42238235",
   "metadata": {},
   "outputs": [
    {
     "data": {
      "text/html": [
       "<div>\n",
       "<style scoped>\n",
       "    .dataframe tbody tr th:only-of-type {\n",
       "        vertical-align: middle;\n",
       "    }\n",
       "\n",
       "    .dataframe tbody tr th {\n",
       "        vertical-align: top;\n",
       "    }\n",
       "\n",
       "    .dataframe thead th {\n",
       "        text-align: right;\n",
       "    }\n",
       "</style>\n",
       "<table border=\"1\" class=\"dataframe\">\n",
       "  <thead>\n",
       "    <tr style=\"text-align: right;\">\n",
       "      <th></th>\n",
       "      <th>listing_id</th>\n",
       "      <th>date</th>\n",
       "      <th>available</th>\n",
       "      <th>price</th>\n",
       "      <th>adjusted_price</th>\n",
       "      <th>minimum_nights</th>\n",
       "      <th>maximum_nights</th>\n",
       "    </tr>\n",
       "  </thead>\n",
       "  <tbody>\n",
       "    <tr>\n",
       "      <th>0</th>\n",
       "      <td>144087</td>\n",
       "      <td>2024-02-10</td>\n",
       "      <td>True</td>\n",
       "      <td>$259.00</td>\n",
       "      <td></td>\n",
       "      <td>30</td>\n",
       "      <td>365</td>\n",
       "    </tr>\n",
       "    <tr>\n",
       "      <th>1</th>\n",
       "      <td>144087</td>\n",
       "      <td>2024-02-11</td>\n",
       "      <td>True</td>\n",
       "      <td>$259.00</td>\n",
       "      <td></td>\n",
       "      <td>30</td>\n",
       "      <td>365</td>\n",
       "    </tr>\n",
       "    <tr>\n",
       "      <th>2</th>\n",
       "      <td>144087</td>\n",
       "      <td>2024-02-12</td>\n",
       "      <td>True</td>\n",
       "      <td>$259.00</td>\n",
       "      <td></td>\n",
       "      <td>30</td>\n",
       "      <td>365</td>\n",
       "    </tr>\n",
       "    <tr>\n",
       "      <th>3</th>\n",
       "      <td>144087</td>\n",
       "      <td>2024-02-13</td>\n",
       "      <td>True</td>\n",
       "      <td>$259.00</td>\n",
       "      <td></td>\n",
       "      <td>30</td>\n",
       "      <td>365</td>\n",
       "    </tr>\n",
       "    <tr>\n",
       "      <th>4</th>\n",
       "      <td>144087</td>\n",
       "      <td>2024-02-14</td>\n",
       "      <td>True</td>\n",
       "      <td>$259.00</td>\n",
       "      <td></td>\n",
       "      <td>30</td>\n",
       "      <td>365</td>\n",
       "    </tr>\n",
       "  </tbody>\n",
       "</table>\n",
       "</div>"
      ],
      "text/plain": [
       "  listing_id       date  available    price adjusted_price minimum_nights  \\\n",
       "0     144087 2024-02-10       True  $259.00                            30   \n",
       "1     144087 2024-02-11       True  $259.00                            30   \n",
       "2     144087 2024-02-12       True  $259.00                            30   \n",
       "3     144087 2024-02-13       True  $259.00                            30   \n",
       "4     144087 2024-02-14       True  $259.00                            30   \n",
       "\n",
       "  maximum_nights  \n",
       "0            365  \n",
       "1            365  \n",
       "2            365  \n",
       "3            365  \n",
       "4            365  "
      ]
     },
     "execution_count": 8,
     "metadata": {},
     "output_type": "execute_result"
    }
   ],
   "source": [
    "calendar_df.head(5)"
   ]
  },
  {
   "cell_type": "code",
   "execution_count": 9,
   "id": "a8c4cc73-c3d0-4de3-935b-9d879d51f3c9",
   "metadata": {},
   "outputs": [],
   "source": [
    "calendar_df['price'] = pd.to_numeric(calendar_df['price'].apply(lambda x: x.replace('$', '').replace(',', '')))"
   ]
  },
  {
   "cell_type": "code",
   "execution_count": 10,
   "id": "f4852dd8-14b8-42f4-bb05-ff32d206101a",
   "metadata": {},
   "outputs": [
    {
     "name": "stdout",
     "output_type": "stream",
     "text": [
      "<class 'numpy.float64'>\n",
      "  listing_id       date  available  price adjusted_price minimum_nights  \\\n",
      "0     144087 2024-02-10       True  259.0                            30   \n",
      "1     144087 2024-02-11       True  259.0                            30   \n",
      "2     144087 2024-02-12       True  259.0                            30   \n",
      "3     144087 2024-02-13       True  259.0                            30   \n",
      "4     144087 2024-02-14       True  259.0                            30   \n",
      "\n",
      "  maximum_nights  \n",
      "0            365  \n",
      "1            365  \n",
      "2            365  \n",
      "3            365  \n",
      "4            365  \n"
     ]
    }
   ],
   "source": [
    "print(type(calendar_df.loc[0,'price']))\n",
    "print(calendar_df.head())\n"
   ]
  },
  {
   "cell_type": "code",
   "execution_count": 11,
   "id": "fc32a1d4-b654-4354-8d98-7b8de2d5f924",
   "metadata": {},
   "outputs": [
    {
     "name": "stdout",
     "output_type": "stream",
     "text": [
      "Time to perform this operation was 0:01:15.006441 hms.\n"
     ]
    }
   ],
   "source": [
    "time1 = datetime.now()\n",
    "calendar_dict = calendar_df.to_dict('records')\n",
    "time2 = datetime.now()\n",
    "print(f'Time to perform this operation was {util.time_diff(time1,time2)} hms.')"
   ]
  },
  {
   "cell_type": "code",
   "execution_count": 20,
   "id": "ed04c8f3-a409-4fa1-9091-f2e9ebdbd8b1",
   "metadata": {},
   "outputs": [
    {
     "name": "stdout",
     "output_type": "stream",
     "text": [
      "14299870\n",
      "\n",
      "Time to perform this operation was 0:02:50.862937 seconds.\n",
      "\n",
      "Number of docs in db.calendar is 14299870\n",
      "\n",
      "[{'_id': ObjectId('6664e668b7602debbc665006'),\n",
      "  'listing_id': '1081185973600372871',\n",
      "  'date': datetime.datetime(2025, 1, 31, 0, 0),\n",
      "  'available': False,\n",
      "  'price': 160.0,\n",
      "  'adjusted_price': '',\n",
      "  'minimum_nights': 30,\n",
      "  'maximum_nights': 365},\n",
      " {'_id': ObjectId('6664e668b7602debbc665007'),\n",
      "  'listing_id': '1081185973600372871',\n",
      "  'date': datetime.datetime(2025, 2, 1, 0, 0),\n",
      "  'available': False,\n",
      "  'price': 160.0,\n",
      "  'adjusted_price': '',\n",
      "  'minimum_nights': 30,\n",
      "  'maximum_nights': 365},\n",
      " {'_id': ObjectId('6664e668b7602debbc665008'),\n",
      "  'listing_id': '1081185973600372871',\n",
      "  'date': datetime.datetime(2025, 2, 2, 0, 0),\n",
      "  'available': False,\n",
      "  'price': 160.0,\n",
      "  'adjusted_price': '',\n",
      "  'minimum_nights': 30,\n",
      "  'maximum_nights': 365},\n",
      " {'_id': ObjectId('6664e668b7602debbc665009'),\n",
      "  'listing_id': '1081185973600372871',\n",
      "  'date': datetime.datetime(2025, 2, 3, 0, 0),\n",
      "  'available': False,\n",
      "  'price': 160.0,\n",
      "  'adjusted_price': '',\n",
      "  'minimum_nights': 30,\n",
      "  'maximum_nights': 365},\n",
      " {'_id': ObjectId('6664e668b7602debbc66500a'),\n",
      "  'listing_id': '1081185973600372871',\n",
      "  'date': datetime.datetime(2025, 2, 4, 0, 0),\n",
      "  'available': False,\n",
      "  'price': 160.0,\n",
      "  'adjusted_price': '',\n",
      "  'minimum_nights': 30,\n",
      "  'maximum_nights': 365}]\n"
     ]
    }
   ],
   "source": [
    "# The following empties out listings_with_cal; useful if making a fresh start\n",
    "db.calendar.drop()\n",
    "\n",
    "print(len(calendar_dict))\n",
    "\n",
    "time1 = datetime.now()\n",
    "result = db.calendar.insert_many(calendar_dict)\n",
    "time2 = datetime.now()\n",
    "print(f'\\nTime to perform this operation was {util.time_diff(time1,time2)} seconds.')\n",
    "# between about 2 and 4 minutes\n",
    "\n",
    "print(f'\\nNumber of docs in db.calendar is {db.calendar.count_documents({})}')\n",
    "\n",
    "print()\n",
    "outdocs = []\n",
    "for o in result.inserted_ids[-5:]:\n",
    "    outdocs.append(db.calendar.find_one({ '_id': o}))\n",
    "pprint.pp(outdocs)"
   ]
  },
  {
   "cell_type": "code",
   "execution_count": 21,
   "id": "13c404a7-36c6-4018-84f6-d4af181815a0",
   "metadata": {},
   "outputs": [
    {
     "name": "stdout",
     "output_type": "stream",
     "text": [
      "14299870\n",
      "14299870\n"
     ]
    }
   ],
   "source": [
    "#Double Checking \n",
    "print(len(calendar_dict))\n",
    "print(db.calendar.count_documents({}))"
   ]
  },
  {
   "cell_type": "code",
   "execution_count": null,
   "id": "92185126-6aea-431b-bdab-54d579af682a",
   "metadata": {},
   "outputs": [],
   "source": [
    "db.listings_with_calendar.drop()\n",
    "\n",
    "pipeline = [\n",
    "    {\n",
    "        '$group': {\n",
    "            '_id': '$listing_id',\n",
    "            'average_price': {'$avg': '$price'},\n",
    "            'first_available_date': {'$min': '$date'},\n",
    "            'last_available_date': {'$max': '$date'},\n",
    "            'dates_list': {\n",
    "                '$push': {\n",
    "                    'date': '$date',\n",
    "                    'available': '$available',\n",
    "                    'price': '$price',\n",
    "                    'minimum_nights': '$minimum_nights',\n",
    "                    'maximum_nights': '$maximum_nights'\n",
    "                }\n",
    "            }\n",
    "        }\n",
    "    },\n",
    "    {\n",
    "        '$project': {\n",
    "            '_id': 0,\n",
    "            'id': '$_id',\n",
    "            'average_price': 1,\n",
    "            'first_available_date': 1,\n",
    "            'last_available_date': 1,\n",
    "            'dates_list': 1\n",
    "        }\n",
    "    },\n",
    "    {\n",
    "        '$addFields': {\n",
    "            '_id': '$id'\n",
    "        }\n",
    "    },\n",
    "    {\n",
    "        '$out': 'listings_with_calendar'\n",
    "    }\n",
    "]\n",
    "\n",
    "\n",
    "test1 = db.calendar.aggregate(pipeline)\n",
    "print(db.list_collection_names())\n"
   ]
  },
  {
   "cell_type": "code",
   "execution_count": 25,
   "id": "8dfdfcf8-5fc0-4355-9ac4-6e3debc40400",
   "metadata": {},
   "outputs": [
    {
     "name": "stdout",
     "output_type": "stream",
     "text": [
      "['listings', 'listings_with_calendar', 'calendar']\n",
      "39201\n"
     ]
    }
   ],
   "source": [
    "print(db.list_collection_names())\n",
    "print(db.listings_with_calendar.count_documents({}))"
   ]
  },
  {
   "cell_type": "code",
   "execution_count": null,
   "id": "0e5331ca-cc57-4ce8-8828-2deb9bd1eeec",
   "metadata": {},
   "outputs": [],
   "source": [
    "pprint.pp(db.listings_with_calendar.find_one({'id': '10000070'}))"
   ]
  },
  {
   "cell_type": "code",
   "execution_count": 33,
   "id": "ce6fd74e-c420-4edb-909c-324fa78f1fb0",
   "metadata": {},
   "outputs": [
    {
     "name": "stdout",
     "output_type": "stream",
     "text": [
      "39201\n"
     ]
    }
   ],
   "source": [
    "print(db.listings_with_calendar.count_documents({}))"
   ]
  },
  {
   "cell_type": "code",
   "execution_count": null,
   "id": "61057fa2-f106-462e-be1b-690e4407acdf",
   "metadata": {},
   "outputs": [],
   "source": [
    "importlib.reload(util)\n",
    "doc1 = db.listings_with_calendar.find_one({'id': '11194693'})\n",
    "\n",
    "pprint.pp(util.convert_lwc_to_json(doc1))"
   ]
  },
  {
   "cell_type": "code",
   "execution_count": 12,
   "id": "1bce5959-6e14-414e-bfa1-255d3c466e26",
   "metadata": {},
   "outputs": [],
   "source": [
    "cursor_docs = db.listings_with_calendar.find({'_id': {'$regex' : '^1000'}})\n",
    "\n",
    "#docs = [doc for doc in cursor_docs]"
   ]
  },
  {
   "cell_type": "code",
   "execution_count": 13,
   "id": "d1511f56-16c8-4c91-bb71-35054f3e5e0c",
   "metadata": {},
   "outputs": [
    {
     "name": "stdout",
     "output_type": "stream",
     "text": [
      "28\n"
     ]
    }
   ],
   "source": [
    "output = []\n",
    "\n",
    "for doc in cursor_docs:\n",
    "    output.append(util.convert_lwc_to_json(doc))\n",
    "\n",
    "print(len(output))"
   ]
  },
  {
   "cell_type": "code",
   "execution_count": 14,
   "id": "a3433d44-5699-4fd4-bf0b-3fae48e49d1e",
   "metadata": {},
   "outputs": [],
   "source": [
    "importlib.reload(util)\n",
    "\n",
    "dir = 'CHECK'\n",
    "filename = 'listings_with_calendar_subset.json'\n",
    "util.write_dict_to_dir_json(output, dir, filename)"
   ]
  }
 ],
 "metadata": {
  "kernelspec": {
   "display_name": "Python 3 (ipykernel)",
   "language": "python",
   "name": "python3"
  },
  "language_info": {
   "codemirror_mode": {
    "name": "ipython",
    "version": 3
   },
   "file_extension": ".py",
   "mimetype": "text/x-python",
   "name": "python",
   "nbconvert_exporter": "python",
   "pygments_lexer": "ipython3",
   "version": "3.11.5"
  }
 },
 "nbformat": 4,
 "nbformat_minor": 5
}
