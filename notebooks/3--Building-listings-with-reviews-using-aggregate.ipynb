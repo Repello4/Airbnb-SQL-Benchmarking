{
 "cells": [
  {
   "cell_type": "code",
   "execution_count": 2,
   "id": "288becbf-a66c-4bfc-ad60-cf6415e5aa42",
   "metadata": {},
   "outputs": [],
   "source": [
    "import sys\n",
    "import json\n",
    "import csv\n",
    "import yaml\n",
    "\n",
    "import importlib\n",
    "\n",
    "import pandas as pd\n",
    "import numpy as np\n",
    "\n",
    "import matplotlib as mpl\n",
    "import matplotlib.pyplot as plt\n",
    "import os\n",
    "from dotenv import load_dotenv\n",
    "\n",
    "from datetime import time\n",
    "from datetime import date\n",
    "from datetime import datetime\n",
    "# with the above choices, the imported datetime.time(2023,07,01) is recognized\n",
    "# from datetime import date\n",
    "# from datetime import datetime\n",
    "\n",
    "import pprint\n",
    "\n",
    "import psycopg2\n",
    "from sqlalchemy import create_engine, text as sql_text\n",
    "\n",
    "# Create an utilities file util.py in a folder benchmarking and import it\n",
    "sys.path.append('helper_functions/')\n",
    "# import util as util\n",
    "import util"
   ]
  },
  {
   "cell_type": "code",
   "execution_count": 3,
   "id": "0abf73f6-a742-4671-9809-9ff0f3192e26",
   "metadata": {},
   "outputs": [],
   "source": [
    "from pymongo import MongoClient\n",
    "\n",
    "client = MongoClient()"
   ]
  },
  {
   "cell_type": "code",
   "execution_count": 4,
   "id": "5839fbc1-df70-4c00-b04a-21e63bd1f529",
   "metadata": {},
   "outputs": [
    {
     "name": "stdout",
     "output_type": "stream",
     "text": [
      "The list of all databases currently in the MongoDB client is:\n",
      "['admin', 'airbnb', 'config', 'local', 'test']\n",
      "\n",
      "The list of all collections in the airbnb database is:\n",
      "['listings', 'listings_with_calendar', 'reviews', 'listings_with_reviews_and_cal', 'listings_with_reviews_m', 'calendar']\n"
     ]
    }
   ],
   "source": [
    "db = client.airbnb\n",
    "\n",
    "\n",
    "print('The list of all databases currently in the MongoDB client is:')\n",
    "print(client.list_database_names())\n",
    "\n",
    "print('\\nThe list of all collections in the airbnb database is:')\n",
    "print(db.list_collection_names())"
   ]
  },
  {
   "cell_type": "code",
   "execution_count": 99,
   "id": "79640fbf-0a56-4f99-8e9e-5aa3ea33793a",
   "metadata": {},
   "outputs": [],
   "source": [
    "dtype_r = {'listing_id': 'string',\n",
    "           'id' : 'string',\n",
    "    'review_id': 'string','date': 'string', \n",
    "        'reviewer_id': 'string','reviewer_name': 'string',\n",
    "           'comments': 'string'}\n",
    "\n",
    "dtype_l = {'id':'string',\n",
    "    'name': 'string',\n",
    "    'host_name': 'string',\n",
    "    'neighbourhood_group': 'string',\n",
    "    'host_id' : 'string',\n",
    "    'neighbourhood': 'string',\n",
    "    'room_type': 'string',\n",
    "    'price': 'string',\n",
    "    'last_review': 'string',\n",
    "    'reviews_per_month': 'string',\n",
    "    'license': 'string'\n",
    "}\n",
    "\n",
    "reviews_df = pd.read_csv('Data/reviews.csv',dtype=dtype_r, keep_default_na = False)\n",
    "listings_df = pd.read_csv('Data/listings.csv',dtype=dtype_l,keep_default_na = False)"
   ]
  },
  {
   "cell_type": "code",
   "execution_count": null,
   "id": "fe0e1d40-f94b-4e19-b185-7158a92eaef1",
   "metadata": {},
   "outputs": [],
   "source": []
  },
  {
   "cell_type": "code",
   "execution_count": 100,
   "id": "2c9be955-8431-4e9f-bf25-202ce4efa285",
   "metadata": {},
   "outputs": [
    {
     "name": "stdout",
     "output_type": "stream",
     "text": [
      "id                                string[python]\n",
      "name                              string[python]\n",
      "host_id                           string[python]\n",
      "host_name                         string[python]\n",
      "neighbourhood_group               string[python]\n",
      "neighbourhood                     string[python]\n",
      "latitude                                 float64\n",
      "longitude                                float64\n",
      "room_type                         string[python]\n",
      "price                             string[python]\n",
      "minimum_nights                             int64\n",
      "number_of_reviews                          int64\n",
      "last_review                       string[python]\n",
      "reviews_per_month                 string[python]\n",
      "calculated_host_listings_count             int64\n",
      "availability_365                           int64\n",
      "number_of_reviews_ltm                      int64\n",
      "license                           string[python]\n",
      "dtype: object\n",
      "\n",
      "The first few rows of df are:\n"
     ]
    },
    {
     "data": {
      "text/html": [
       "<div>\n",
       "<style scoped>\n",
       "    .dataframe tbody tr th:only-of-type {\n",
       "        vertical-align: middle;\n",
       "    }\n",
       "\n",
       "    .dataframe tbody tr th {\n",
       "        vertical-align: top;\n",
       "    }\n",
       "\n",
       "    .dataframe thead th {\n",
       "        text-align: right;\n",
       "    }\n",
       "</style>\n",
       "<table border=\"1\" class=\"dataframe\">\n",
       "  <thead>\n",
       "    <tr style=\"text-align: right;\">\n",
       "      <th></th>\n",
       "      <th>id</th>\n",
       "      <th>name</th>\n",
       "      <th>host_id</th>\n",
       "      <th>host_name</th>\n",
       "      <th>neighbourhood_group</th>\n",
       "      <th>neighbourhood</th>\n",
       "      <th>latitude</th>\n",
       "      <th>longitude</th>\n",
       "      <th>room_type</th>\n",
       "      <th>price</th>\n",
       "      <th>minimum_nights</th>\n",
       "      <th>number_of_reviews</th>\n",
       "      <th>last_review</th>\n",
       "      <th>reviews_per_month</th>\n",
       "      <th>calculated_host_listings_count</th>\n",
       "      <th>availability_365</th>\n",
       "      <th>number_of_reviews_ltm</th>\n",
       "      <th>license</th>\n",
       "    </tr>\n",
       "  </thead>\n",
       "  <tbody>\n",
       "    <tr>\n",
       "      <th>0</th>\n",
       "      <td>977395984065981849</td>\n",
       "      <td>Home in Brooklyn · 1 bedroom · 1 bed · 1 bath</td>\n",
       "      <td>95344065</td>\n",
       "      <td>Derek</td>\n",
       "      <td>Brooklyn</td>\n",
       "      <td>Sheepshead Bay</td>\n",
       "      <td>40.591790</td>\n",
       "      <td>-73.942850</td>\n",
       "      <td>Private room</td>\n",
       "      <td>30</td>\n",
       "      <td>31</td>\n",
       "      <td>1</td>\n",
       "      <td>1/3/24</td>\n",
       "      <td>0.86</td>\n",
       "      <td>7</td>\n",
       "      <td>339</td>\n",
       "      <td>1</td>\n",
       "      <td></td>\n",
       "    </tr>\n",
       "    <tr>\n",
       "      <th>1</th>\n",
       "      <td>729947657876634696</td>\n",
       "      <td>Rental unit in The Bronx · 1 bedroom · 1 bed ·...</td>\n",
       "      <td>566660</td>\n",
       "      <td>Markus</td>\n",
       "      <td>Bronx</td>\n",
       "      <td>Longwood</td>\n",
       "      <td>40.827373</td>\n",
       "      <td>-73.903147</td>\n",
       "      <td>Private room</td>\n",
       "      <td>29</td>\n",
       "      <td>30</td>\n",
       "      <td>2</td>\n",
       "      <td>12/31/23</td>\n",
       "      <td>0.14</td>\n",
       "      <td>2</td>\n",
       "      <td>34</td>\n",
       "      <td>1</td>\n",
       "      <td></td>\n",
       "    </tr>\n",
       "    <tr>\n",
       "      <th>2</th>\n",
       "      <td>648033676238017128</td>\n",
       "      <td>Rental unit in Bronx · ★4.89 · 1 bedroom · 1 b...</td>\n",
       "      <td>421601513</td>\n",
       "      <td>J Carlos Retals</td>\n",
       "      <td>Bronx</td>\n",
       "      <td>Kingsbridge</td>\n",
       "      <td>40.863940</td>\n",
       "      <td>-73.903120</td>\n",
       "      <td>Private room</td>\n",
       "      <td>30</td>\n",
       "      <td>30</td>\n",
       "      <td>18</td>\n",
       "      <td>12/26/23</td>\n",
       "      <td>0.95</td>\n",
       "      <td>3</td>\n",
       "      <td>359</td>\n",
       "      <td>6</td>\n",
       "      <td></td>\n",
       "    </tr>\n",
       "    <tr>\n",
       "      <th>3</th>\n",
       "      <td>623137142536549768</td>\n",
       "      <td>Rental unit in Brooklyn · 1 bedroom · 1 bed · ...</td>\n",
       "      <td>106442885</td>\n",
       "      <td>Ava</td>\n",
       "      <td>Brooklyn</td>\n",
       "      <td>East New York</td>\n",
       "      <td>40.660730</td>\n",
       "      <td>-73.890500</td>\n",
       "      <td>Entire home/apt</td>\n",
       "      <td>76</td>\n",
       "      <td>30</td>\n",
       "      <td>1</td>\n",
       "      <td>5/19/22</td>\n",
       "      <td>0.05</td>\n",
       "      <td>1</td>\n",
       "      <td>364</td>\n",
       "      <td>0</td>\n",
       "      <td></td>\n",
       "    </tr>\n",
       "    <tr>\n",
       "      <th>4</th>\n",
       "      <td>871990853610302281</td>\n",
       "      <td>Rental unit in Queens · ★New · 1 bedroom · Hal...</td>\n",
       "      <td>484563208</td>\n",
       "      <td>Tricia</td>\n",
       "      <td>Queens</td>\n",
       "      <td>Howard Beach</td>\n",
       "      <td>40.663586</td>\n",
       "      <td>-73.834532</td>\n",
       "      <td>Private room</td>\n",
       "      <td>85</td>\n",
       "      <td>30</td>\n",
       "      <td>0</td>\n",
       "      <td></td>\n",
       "      <td></td>\n",
       "      <td>2</td>\n",
       "      <td>89</td>\n",
       "      <td>0</td>\n",
       "      <td></td>\n",
       "    </tr>\n",
       "  </tbody>\n",
       "</table>\n",
       "</div>"
      ],
      "text/plain": [
       "                   id                                               name  \\\n",
       "0  977395984065981849      Home in Brooklyn · 1 bedroom · 1 bed · 1 bath   \n",
       "1  729947657876634696  Rental unit in The Bronx · 1 bedroom · 1 bed ·...   \n",
       "2  648033676238017128  Rental unit in Bronx · ★4.89 · 1 bedroom · 1 b...   \n",
       "3  623137142536549768  Rental unit in Brooklyn · 1 bedroom · 1 bed · ...   \n",
       "4  871990853610302281  Rental unit in Queens · ★New · 1 bedroom · Hal...   \n",
       "\n",
       "     host_id        host_name neighbourhood_group   neighbourhood   latitude  \\\n",
       "0   95344065            Derek            Brooklyn  Sheepshead Bay  40.591790   \n",
       "1     566660           Markus               Bronx        Longwood  40.827373   \n",
       "2  421601513  J Carlos Retals               Bronx     Kingsbridge  40.863940   \n",
       "3  106442885              Ava            Brooklyn   East New York  40.660730   \n",
       "4  484563208           Tricia              Queens    Howard Beach  40.663586   \n",
       "\n",
       "   longitude        room_type price  minimum_nights  number_of_reviews  \\\n",
       "0 -73.942850     Private room    30              31                  1   \n",
       "1 -73.903147     Private room    29              30                  2   \n",
       "2 -73.903120     Private room    30              30                 18   \n",
       "3 -73.890500  Entire home/apt    76              30                  1   \n",
       "4 -73.834532     Private room    85              30                  0   \n",
       "\n",
       "  last_review reviews_per_month  calculated_host_listings_count  \\\n",
       "0      1/3/24              0.86                               7   \n",
       "1    12/31/23              0.14                               2   \n",
       "2    12/26/23              0.95                               3   \n",
       "3     5/19/22              0.05                               1   \n",
       "4                                                             2   \n",
       "\n",
       "   availability_365  number_of_reviews_ltm license  \n",
       "0               339                      1          \n",
       "1                34                      1          \n",
       "2               359                      6          \n",
       "3               364                      0          \n",
       "4                89                      0          "
      ]
     },
     "metadata": {},
     "output_type": "display_data"
    }
   ],
   "source": [
    "#First few views\n",
    "print(listings_df.dtypes)\n",
    "print('\\nThe first few rows of df are:')\n",
    "display(listings_df.head())"
   ]
  },
  {
   "cell_type": "code",
   "execution_count": 98,
   "id": "a1984a1c-2d43-48c5-b0bf-dc114b609532",
   "metadata": {},
   "outputs": [
    {
     "name": "stdout",
     "output_type": "stream",
     "text": [
      "listing_id       string[python]\n",
      "id               string[python]\n",
      "date             string[python]\n",
      "reviewer_id      string[python]\n",
      "reviewer_name    string[python]\n",
      "comments         string[python]\n",
      "dtype: object\n",
      "\n",
      "The first few rows of df are:\n"
     ]
    },
    {
     "data": {
      "text/html": [
       "<div>\n",
       "<style scoped>\n",
       "    .dataframe tbody tr th:only-of-type {\n",
       "        vertical-align: middle;\n",
       "    }\n",
       "\n",
       "    .dataframe tbody tr th {\n",
       "        vertical-align: top;\n",
       "    }\n",
       "\n",
       "    .dataframe thead th {\n",
       "        text-align: right;\n",
       "    }\n",
       "</style>\n",
       "<table border=\"1\" class=\"dataframe\">\n",
       "  <thead>\n",
       "    <tr style=\"text-align: right;\">\n",
       "      <th></th>\n",
       "      <th>listing_id</th>\n",
       "      <th>id</th>\n",
       "      <th>date</th>\n",
       "      <th>reviewer_id</th>\n",
       "      <th>reviewer_name</th>\n",
       "      <th>comments</th>\n",
       "    </tr>\n",
       "  </thead>\n",
       "  <tbody>\n",
       "    <tr>\n",
       "      <th>0</th>\n",
       "      <td>2595</td>\n",
       "      <td>17857</td>\n",
       "      <td>2009-11-21</td>\n",
       "      <td>50679</td>\n",
       "      <td>Jean</td>\n",
       "      <td>Notre séjour de trois nuits.\r",
       "&lt;br/&gt;Nous avons a...</td>\n",
       "    </tr>\n",
       "    <tr>\n",
       "      <th>1</th>\n",
       "      <td>2595</td>\n",
       "      <td>19176</td>\n",
       "      <td>2009-12-05</td>\n",
       "      <td>53267</td>\n",
       "      <td>Cate</td>\n",
       "      <td>Great experience.</td>\n",
       "    </tr>\n",
       "    <tr>\n",
       "      <th>2</th>\n",
       "      <td>2595</td>\n",
       "      <td>19760</td>\n",
       "      <td>2009-12-10</td>\n",
       "      <td>38960</td>\n",
       "      <td>Anita</td>\n",
       "      <td>I've stayed with my friend at the Midtown Cast...</td>\n",
       "    </tr>\n",
       "    <tr>\n",
       "      <th>3</th>\n",
       "      <td>2595</td>\n",
       "      <td>34320</td>\n",
       "      <td>2010-04-09</td>\n",
       "      <td>71130</td>\n",
       "      <td>Kai-Uwe</td>\n",
       "      <td>We've been staying here for about 9 nights, en...</td>\n",
       "    </tr>\n",
       "    <tr>\n",
       "      <th>4</th>\n",
       "      <td>2595</td>\n",
       "      <td>46312</td>\n",
       "      <td>2010-05-25</td>\n",
       "      <td>117113</td>\n",
       "      <td>Alicia</td>\n",
       "      <td>We had a wonderful stay at Jennifer's charming...</td>\n",
       "    </tr>\n",
       "  </tbody>\n",
       "</table>\n",
       "</div>"
      ],
      "text/plain": [
       "  listing_id     id        date reviewer_id reviewer_name  \\\n",
       "0       2595  17857  2009-11-21       50679          Jean   \n",
       "1       2595  19176  2009-12-05       53267          Cate   \n",
       "2       2595  19760  2009-12-10       38960         Anita   \n",
       "3       2595  34320  2010-04-09       71130       Kai-Uwe   \n",
       "4       2595  46312  2010-05-25      117113        Alicia   \n",
       "\n",
       "                                            comments  \n",
       "0  Notre séjour de trois nuits.\n",
       "<br/>Nous avons a...  \n",
       "1                                  Great experience.  \n",
       "2  I've stayed with my friend at the Midtown Cast...  \n",
       "3  We've been staying here for about 9 nights, en...  \n",
       "4  We had a wonderful stay at Jennifer's charming...  "
      ]
     },
     "metadata": {},
     "output_type": "display_data"
    }
   ],
   "source": [
    "#First few views\n",
    "print(reviews_df.dtypes)\n",
    "print('\\nThe first few rows of df are:')\n",
    "display(reviews_df.head())"
   ]
  },
  {
   "cell_type": "code",
   "execution_count": 101,
   "id": "5452435e-a3c1-4661-93cf-0b0ef9ec54d1",
   "metadata": {},
   "outputs": [
    {
     "name": "stderr",
     "output_type": "stream",
     "text": [
      "C:\\Users\\Reason\\AppData\\Local\\Temp\\ipykernel_5912\\2037543876.py:3: UserWarning: Could not infer format, so each element will be parsed individually, falling back to `dateutil`. To ensure parsing is consistent and as-expected, please specify a format.\n",
      "  listings_df['last_review'] = pd.to_datetime(listings_df['last_review'], errors='coerce')\n"
     ]
    }
   ],
   "source": [
    "importlib.reload(util)\n",
    "\n",
    "listings_df['last_review'] = pd.to_datetime(listings_df['last_review'], errors='coerce')\n",
    "reviews_df['date'] = reviews_df['date'].apply(util.convert_date_str_to_datetime)\n",
    "reviews_df['date'] = reviews_df['date'].apply(lambda x: x if not pd.isnull(x) else None)\n"
   ]
  },
  {
   "cell_type": "code",
   "execution_count": 106,
   "id": "f4ff1e67-3064-4709-975f-7e1fa5630285",
   "metadata": {},
   "outputs": [],
   "source": [
    "listings_df['last_review'].dtype\n",
    "listings_df['last_review'] = listings_df['last_review'].apply(lambda x: x.isoformat() if not pd.isnull(x) else None)\n"
   ]
  },
  {
   "cell_type": "code",
   "execution_count": 59,
   "id": "82ae92b5-7869-4c59-9397-2b2e82ae2c07",
   "metadata": {},
   "outputs": [
    {
     "name": "stdout",
     "output_type": "stream",
     "text": [
      "There are 11500 NaT values in the last_review column.\n"
     ]
    }
   ],
   "source": [
    "num_nat_values = listings_df['last_review'].isna().sum()\n",
    "\n",
    "print(f'There are {num_nat_values} NaT values in the last_review column.')"
   ]
  },
  {
   "cell_type": "code",
   "execution_count": 107,
   "id": "fc32a1d4-b654-4354-8d98-7b8de2d5f924",
   "metadata": {},
   "outputs": [
    {
     "name": "stdout",
     "output_type": "stream",
     "text": [
      "Time to perform this operation was 0:00:07.449191 hms.\n",
      "Time to perform this operation was 0:00:00.480232 hms.\n"
     ]
    }
   ],
   "source": [
    "time1 = datetime.now()\n",
    "reviews_dict = reviews_df.to_dict('records')\n",
    "time2 = datetime.now()\n",
    "print(f'Time to perform this operation was {util.time_diff(time1,time2)} hms.')\n",
    "\n",
    "time1 = datetime.now()\n",
    "listings_dict = listings_df.to_dict('records')\n",
    "time2 = datetime.now()\n",
    "print(f'Time to perform this operation was {util.time_diff(time1,time2)} hms.')\n",
    "\n",
    "\n"
   ]
  },
  {
   "cell_type": "code",
   "execution_count": 104,
   "id": "4d65e5c9-2a3f-4973-889d-5504afd875ff",
   "metadata": {},
   "outputs": [
    {
     "name": "stdout",
     "output_type": "stream",
     "text": [
      "39202\n",
      "986810\n"
     ]
    }
   ],
   "source": [
    "print(len(listings_dict))\n",
    "print(len(reviews_dict))"
   ]
  },
  {
   "cell_type": "code",
   "execution_count": 108,
   "id": "8cdd9cfe-0563-456e-8213-5a142d5e667f",
   "metadata": {},
   "outputs": [
    {
     "name": "stdout",
     "output_type": "stream",
     "text": [
      "\n",
      "Time to perform this operation was 0:00:00.637949 seconds.\n",
      "\n",
      "Number of docs in db.listings is 39202\n",
      "\n",
      "Time to perform this operation was 0:00:14.230474 seconds.\n",
      "\n",
      "Number of docs in db.reviews is 986810\n"
     ]
    }
   ],
   "source": [
    "#inserting in mongo lisitngs\n",
    "\n",
    "db.listings.drop()\n",
    "\n",
    "time1 = datetime.now()\n",
    "result_l = db.listings.insert_many(listings_dict)\n",
    "time2 = datetime.now()\n",
    "print(f'\\nTime to perform this operation was {util.time_diff(time1,time2)} seconds.')\n",
    "\n",
    "\n",
    "print(f'\\nNumber of docs in db.listings is {db.listings.count_documents({})}')\n",
    "\n",
    "\n",
    "#Inserting in mongo reviews\n",
    "db.reviews.drop()\n",
    "time1 = datetime.now()\n",
    "result_r = db.reviews.insert_many(reviews_dict)\n",
    "time2 = datetime.now()\n",
    "print(f'\\nTime to perform this operation was {util.time_diff(time1,time2)} seconds.')\n",
    "print(f'\\nNumber of docs in db.reviews is {db.reviews.count_documents({})}')"
   ]
  },
  {
   "cell_type": "code",
   "execution_count": 122,
   "id": "92185126-6aea-431b-bdab-54d579af682a",
   "metadata": {},
   "outputs": [
    {
     "name": "stdout",
     "output_type": "stream",
     "text": [
      "['listings', 'listings_with_calendar', 'reviews', 'listings_with_reviews_m', 'calendar', 'listings_with_reviews_and_cal']\n"
     ]
    }
   ],
   "source": [
    "db.listings_with_reviews_m.drop()\n",
    "\n",
    "db.reviews.create_index('listing_id')\n",
    "\n",
    "pipeline = [\n",
    "    {\n",
    "        '$lookup': {\n",
    "            'from': 'reviews',\n",
    "            'localField': 'id',\n",
    "            'foreignField': 'listing_id',\n",
    "            'as': 'reviews'\n",
    "        }\n",
    "    },\n",
    "    {\n",
    "        '$out': 'listings_with_reviews_m'\n",
    "    }\n",
    "]\n",
    "\n",
    "# Execute the aggregation pipeline\n",
    "db.listings.aggregate(pipeline)\n",
    "\n",
    "\n",
    "print(db.list_collection_names())\n"
   ]
  },
  {
   "cell_type": "code",
   "execution_count": 123,
   "id": "268eee90-efb2-44ca-8f47-bac201b02800",
   "metadata": {},
   "outputs": [
    {
     "name": "stdout",
     "output_type": "stream",
     "text": [
      "39202\n"
     ]
    }
   ],
   "source": [
    "print(db.listings_with_reviews_m.count_documents({}))"
   ]
  },
  {
   "cell_type": "code",
   "execution_count": 5,
   "id": "30303448-0fdf-4ac1-81e6-0841bbb953ef",
   "metadata": {},
   "outputs": [
    {
     "name": "stdout",
     "output_type": "stream",
     "text": [
      "28\n"
     ]
    }
   ],
   "source": [
    "docs = list(db.listings_with_reviews_m.find({'id': {'$regex': '^111'}}))\n",
    "output = []\n",
    "\n",
    "for doc in docs:\n",
    "    output.append(util.clean_listings_w_date(doc))\n",
    "\n",
    "print(len(output))"
   ]
  },
  {
   "cell_type": "code",
   "execution_count": 6,
   "id": "12cbab4e-0c75-4cab-b534-e10065797e58",
   "metadata": {},
   "outputs": [],
   "source": [
    "dir = 'CHECK'\n",
    "filename = 'listings_with_reviews_m_subset_1000.json'\n",
    "util.write_dict_to_dir_json(output, dir, filename)"
   ]
  }
 ],
 "metadata": {
  "kernelspec": {
   "display_name": "Python 3 (ipykernel)",
   "language": "python",
   "name": "python3"
  },
  "language_info": {
   "codemirror_mode": {
    "name": "ipython",
    "version": 3
   },
   "file_extension": ".py",
   "mimetype": "text/x-python",
   "name": "python",
   "nbconvert_exporter": "python",
   "pygments_lexer": "ipython3",
   "version": "3.11.5"
  }
 },
 "nbformat": 4,
 "nbformat_minor": 5
}
