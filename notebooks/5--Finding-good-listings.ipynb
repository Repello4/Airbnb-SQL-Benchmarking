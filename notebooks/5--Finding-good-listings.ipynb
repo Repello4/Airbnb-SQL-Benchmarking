{
 "cells": [
  {
   "cell_type": "code",
   "execution_count": 4,
   "id": "288becbf-a66c-4bfc-ad60-cf6415e5aa42",
   "metadata": {},
   "outputs": [],
   "source": [
    "import sys\n",
    "import json\n",
    "import csv\n",
    "import yaml\n",
    "\n",
    "import importlib\n",
    "\n",
    "import pandas as pd\n",
    "import numpy as np\n",
    "\n",
    "import matplotlib as mpl\n",
    "import matplotlib.pyplot as plt\n",
    "import os\n",
    "from dotenv import load_dotenv\n",
    "\n",
    "from datetime import time\n",
    "from datetime import date\n",
    "from datetime import datetime\n",
    "# with the above choices, the imported datetime.time(2023,07,01) is recognized\n",
    "# from datetime import date\n",
    "# from datetime import datetime\n",
    "\n",
    "import pprint\n",
    "\n",
    "import psycopg2\n",
    "from sqlalchemy import create_engine, text as sql_text\n",
    "\n",
    "# Create an utilities file util.py in a folder benchmarking and import it\n",
    "sys.path.append('helper_functions/')\n",
    "# import util as util\n",
    "import util"
   ]
  },
  {
   "cell_type": "code",
   "execution_count": 6,
   "id": "0abf73f6-a742-4671-9809-9ff0f3192e26",
   "metadata": {},
   "outputs": [],
   "source": [
    "from pymongo import MongoClient\n",
    "\n",
    "client = MongoClient()\n",
    "db = client.airbnb\n",
    "\n",
    "collection = db.listings_with_reviews_and_cal"
   ]
  },
  {
   "cell_type": "code",
   "execution_count": 25,
   "id": "5839fbc1-df70-4c00-b04a-21e63bd1f529",
   "metadata": {},
   "outputs": [
    {
     "data": {
      "text/plain": [
       "'id_1'"
      ]
     },
     "execution_count": 25,
     "metadata": {},
     "output_type": "execute_result"
    }
   ],
   "source": [
    "\n",
    "db.listings_with_reviews_m.create_index('id')\n",
    "db.listings_with_calendar.create_index('id')"
   ]
  },
  {
   "cell_type": "code",
   "execution_count": 2,
   "id": "7b00414d-f673-4b8c-8120-30d545a0269d",
   "metadata": {},
   "outputs": [],
   "source": [
    "superlative_words = [\n",
    "    'astounding',\n",
    "    'amazing',\n",
    "    'awesome',\n",
    "    'excellent',\n",
    "    'exceptional',\n",
    "    'extraordinary',\n",
    "    'fantastic',\n",
    "    'great',\n",
    "    'magnificent',\n",
    "    'splendid',\n",
    "    'wonderful'\n",
    "]\n",
    "\n",
    "\n",
    "super_negative_words = [\n",
    "    'aweful',\n",
    "    'horrible',\n",
    "    'terrible'\n",
    "]"
   ]
  },
  {
   "cell_type": "markdown",
   "id": "5905af0e-fc81-4e53-8441-d6b10a2afd31",
   "metadata": {},
   "source": [
    "### Query 5 Pos"
   ]
  },
  {
   "cell_type": "code",
   "execution_count": 11,
   "id": "6f5ca5a8-830c-47e0-a308-42541b7dd246",
   "metadata": {},
   "outputs": [
    {
     "name": "stdout",
     "output_type": "stream",
     "text": [
      "The time taken for the selection was 0.0 seconds.\n",
      "The time taken to create the list was 17.360703 seconds.\n",
      "Number of listings found: 25196\n"
     ]
    }
   ],
   "source": [
    "regex = '|'.join(superlative_words)\n",
    "\n",
    "query_5_pos_condition = {\n",
    "    'reviews.comments': {\n",
    "        '$regex': regex,\n",
    "        '$options': 'i'  \n",
    "    }\n",
    "}\n",
    "\n",
    "\n",
    "time1 = datetime.now()\n",
    "\n",
    "query_5_pos_result = collection.find(query_5_pos_condition)\n",
    "time2 = datetime.now()\n",
    "print(f'The time taken for the selection was {(time2 - time1).total_seconds()} seconds.')\n",
    "\n",
    "time3 = datetime.now()\n",
    "query_5_pos_list = list(query_5_pos_result)\n",
    "time4 = datetime.now()\n",
    "print(f'The time taken to create the list was {(time4 - time3).total_seconds()} seconds.')\n",
    "print(f'Number of listings found: {len(query_5_pos_list)}')"
   ]
  },
  {
   "cell_type": "markdown",
   "id": "d5a31ad2-a00c-47f1-a974-5c1282f42a95",
   "metadata": {},
   "source": [
    "### Query 5 neg\n"
   ]
  },
  {
   "cell_type": "code",
   "execution_count": 10,
   "id": "a95d1d83-bcca-4d66-ac30-e7eff36f09ab",
   "metadata": {},
   "outputs": [
    {
     "name": "stdout",
     "output_type": "stream",
     "text": [
      "The time taken for the selection was 0.0 seconds.\n",
      "The time taken to create the list was 7.203021 seconds.\n",
      "Number of listings found: 1672\n"
     ]
    }
   ],
   "source": [
    "regex = '|'.join(super_negative_words)\n",
    "\n",
    "# Define the query condition\n",
    "query_5_neg_condition = {\n",
    "    'reviews.comments': {\n",
    "        '$regex': regex,\n",
    "        '$options': 'i' \n",
    "    }\n",
    "}\n",
    "\n",
    "time1 = datetime.now()\n",
    "query_5_neg_result = collection.find(query_5_neg_condition)\n",
    "time2 = datetime.now()\n",
    "print(f'The time taken for the selection was {(time2 - time1).total_seconds()} seconds.')\n",
    "\n",
    "\n",
    "time3 = datetime.now()\n",
    "query_5_neg_list = list(query_5_neg_result)\n",
    "time4 = datetime.now()\n",
    "print(f'The time taken to create the list was {(time4 - time3).total_seconds()} seconds.')\n",
    "\n",
    "print(f'Number of listings found: {len(query_5_neg_list)}')"
   ]
  },
  {
   "cell_type": "markdown",
   "id": "856c75b7-a2cc-4ae7-8fa7-ff08d8ed2a1c",
   "metadata": {},
   "source": [
    "## Query 6 pos"
   ]
  },
  {
   "cell_type": "code",
   "execution_count": 14,
   "id": "8a1d0df5-c33b-4485-89a2-368d2d0030e5",
   "metadata": {},
   "outputs": [
    {
     "name": "stdout",
     "output_type": "stream",
     "text": [
      "The time taken for the selection was 0.0 seconds.\n",
      "The time taken to create the list was 16.616319 seconds.\n",
      "Number of listings found: 19228\n"
     ]
    }
   ],
   "source": [
    "query_6_pos_condition = {\n",
    "    '$and': [\n",
    "        query_5_pos_condition,\n",
    "        {'dates_list.date': {'$gte': datetime(2025, 2, 1)}},  # Listings available on or after February 1, 2025\n",
    "        {'average_price': {'$lte': 200}}  # Average price of the listing is $200 or less\n",
    "    ]\n",
    "}\n",
    "\n",
    "\n",
    "time1 = datetime.now()\n",
    "query_6_pos_result = collection.find(query_6_pos_condition)\n",
    "time2 = datetime.now()\n",
    "print(f'The time taken for the selection was {(time2 - time1).total_seconds()} seconds.')\n",
    "\n",
    "time3 = datetime.now()\n",
    "query_6_pos_list = list(query_6_pos_result)\n",
    "time4 = datetime.now()\n",
    "print(f'The time taken to create the list was {(time4 - time3).total_seconds()} seconds.')\n",
    "\n",
    "print(f'Number of listings found: {len(query_6_pos_list)}')"
   ]
  },
  {
   "cell_type": "markdown",
   "id": "70da726d-bfb3-4f5a-a446-c9bc9715f23e",
   "metadata": {},
   "source": [
    "## Query 6 neg"
   ]
  },
  {
   "cell_type": "code",
   "execution_count": 15,
   "id": "d0bb83fc-40d9-44b3-a3b4-615d228ff16f",
   "metadata": {},
   "outputs": [
    {
     "name": "stdout",
     "output_type": "stream",
     "text": [
      "The time taken for the selection was 0.0 seconds.\n",
      "The time taken to create the list was 5.536341 seconds.\n",
      "Number of listings found: 1281\n"
     ]
    }
   ],
   "source": [
    "query_6_neg_condition = {\n",
    "    '$and': [\n",
    "        query_5_neg_condition,\n",
    "        {'dates_list.date': {'$gte': datetime(2025, 2, 1)}}, \n",
    "        {'average_price': {'$lte': 200}} \n",
    "    ]\n",
    "}\n",
    "\n",
    "time1 = datetime.now()\n",
    "query_6_neg_result = collection.find(query_6_neg_condition)\n",
    "time2 = datetime.now()\n",
    "print(f'The time taken for the selection was {(time2 - time1).total_seconds()} seconds.')\n",
    "\n",
    "time3 = datetime.now()\n",
    "query_6_neg_list = list(query_6_neg_result)\n",
    "time4 = datetime.now()\n",
    "print(f'The time taken to create the list was {(time4 - time3).total_seconds()} seconds.')\n",
    "\n",
    "print(f'Number of listings found: {len(query_6_neg_list)}')"
   ]
  },
  {
   "cell_type": "markdown",
   "id": "49190a3b-438e-4ba3-a649-3b7be1f72bc2",
   "metadata": {},
   "source": [
    "### Index Creation of comments in all of the reviews  arryas"
   ]
  },
  {
   "cell_type": "code",
   "execution_count": 17,
   "id": "8a617ee8-d3a4-46b0-bd9c-d3210ea674db",
   "metadata": {},
   "outputs": [
    {
     "name": "stdout",
     "output_type": "stream",
     "text": [
      "The time taken for the review.comments index creation was 37.550677 seconds.\n"
     ]
    }
   ],
   "source": [
    "\n",
    "time1 = datetime.now()\n",
    "index_name = db.listings_with_reviews_and_cal.create_index({'reviews.comments': 'text'})\n",
    "time2 = datetime.now()\n",
    "print(f'The time taken for the review.comments index creation was {(time2 - time1).total_seconds()} seconds.')"
   ]
  },
  {
   "cell_type": "code",
   "execution_count": 18,
   "id": "0efc3b24-22d8-4d30-b6ec-c79cc8db118d",
   "metadata": {},
   "outputs": [
    {
     "name": "stdout",
     "output_type": "stream",
     "text": [
      "_id_\n",
      "reviews.comments_text\n",
      "\n",
      "SON([('v', 2), ('key', SON([('_id', 1)])), ('name', '_id_')])\n",
      "SON([('v', 2), ('key', SON([('_fts', 'text'), ('_ftsx', 1)])), ('name', 'reviews.comments_text'), ('weights', SON([('reviews.comments', 1)])), ('default_language', 'english'), ('language_override', 'language'), ('textIndexVersion', 3)])\n"
     ]
    }
   ],
   "source": [
    "cursor = db.listings_with_reviews_and_cal.index_information()\n",
    "cursor1 = db.listings_with_reviews_and_cal.list_indexes()\n",
    "for i in cursor:\n",
    "    print(i)\n",
    "\n",
    "print()\n",
    "for i in cursor1:\n",
    "    print(i)"
   ]
  },
  {
   "cell_type": "markdown",
   "id": "78b1d892-4084-40f6-b122-50787c8c9ee1",
   "metadata": {},
   "source": [
    "### Query 7 Pos"
   ]
  },
  {
   "cell_type": "code",
   "execution_count": 19,
   "id": "bd5ce6b2-6bb9-4944-bab0-2288c8ce53aa",
   "metadata": {},
   "outputs": [
    {
     "name": "stdout",
     "output_type": "stream",
     "text": [
      "The time taken for the selection was 0.0 seconds.\n",
      "The time taken to create the list was 18.096243 seconds.\n",
      "Number of listings found: 25197\n"
     ]
    }
   ],
   "source": [
    "text_search = ' '.join(superlative_words)\n",
    "condition_ind = {'$text': {'$search': text_search}}\n",
    "\n",
    "\n",
    "time1 = datetime.now()\n",
    "query_7_pos_result = collection.find(condition_ind)\n",
    "time2 = datetime.now()\n",
    "print(f'The time taken for the selection was {(time2 - time1).total_seconds()} seconds.')\n",
    "\n",
    "time3 = datetime.now()\n",
    "query_7_pos_list = list(query_7_pos_result)\n",
    "time4 = datetime.now()\n",
    "print(f'The time taken to create the list was {(time4 - time3).total_seconds()} seconds.')\n",
    "print(f'Number of listings found: {len(query_7_pos_list)}')"
   ]
  },
  {
   "cell_type": "markdown",
   "id": "2d3eef27-a0e3-4d9d-be96-aaa6647ca8b1",
   "metadata": {},
   "source": [
    "### Query 7 Neg"
   ]
  },
  {
   "cell_type": "code",
   "execution_count": 20,
   "id": "0f3eebd1-d05d-445f-9a73-1778e427eaee",
   "metadata": {},
   "outputs": [
    {
     "name": "stdout",
     "output_type": "stream",
     "text": [
      "The time taken for the selection was 0.0 seconds.\n",
      "The time taken to create the list was 1.578671 seconds.\n",
      "Number of listings found: 1930\n"
     ]
    }
   ],
   "source": [
    "text_search = ' '.join(super_negative_words)\n",
    "condition_ind = {'$text': {'$search': text_search}}\n",
    "\n",
    "\n",
    "time1 = datetime.now()\n",
    "query_7_neg_result = collection.find(condition_ind)\n",
    "time2 = datetime.now()\n",
    "print(f'The time taken for the selection was {(time2 - time1).total_seconds()} seconds.')\n",
    "\n",
    "time3 = datetime.now()\n",
    "query_7_neg_list = list(query_7_neg_result)\n",
    "time4 = datetime.now()\n",
    "print(f'The time taken to create the list was {(time4 - time3).total_seconds()} seconds.')\n",
    "print(f'Number of listings found: {len(query_7_neg_list)}')"
   ]
  }
 ],
 "metadata": {
  "kernelspec": {
   "display_name": "Python 3 (ipykernel)",
   "language": "python",
   "name": "python3"
  },
  "language_info": {
   "codemirror_mode": {
    "name": "ipython",
    "version": 3
   },
   "file_extension": ".py",
   "mimetype": "text/x-python",
   "name": "python",
   "nbconvert_exporter": "python",
   "pygments_lexer": "ipython3",
   "version": "3.10.14"
  }
 },
 "nbformat": 4,
 "nbformat_minor": 5
}
