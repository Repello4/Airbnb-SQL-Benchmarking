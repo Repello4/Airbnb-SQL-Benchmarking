{
 "cells": [
  {
   "cell_type": "code",
   "execution_count": 1,
   "id": "288becbf-a66c-4bfc-ad60-cf6415e5aa42",
   "metadata": {},
   "outputs": [],
   "source": [
    "import sys\n",
    "import json\n",
    "import csv\n",
    "import yaml\n",
    "\n",
    "import importlib\n",
    "\n",
    "import pandas as pd\n",
    "import numpy as np\n",
    "\n",
    "import matplotlib as mpl\n",
    "import matplotlib.pyplot as plt\n",
    "import os\n",
    "from dotenv import load_dotenv\n",
    "\n",
    "from datetime import time\n",
    "from datetime import date\n",
    "from datetime import datetime\n",
    "# with the above choices, the imported datetime.time(2023,07,01) is recognized\n",
    "# from datetime import date\n",
    "# from datetime import datetime\n",
    "\n",
    "import pprint\n",
    "\n",
    "import psycopg2\n",
    "from sqlalchemy import create_engine, text as sql_text\n",
    "\n",
    "# Create an utilities file util.py in a folder benchmarking and import it\n",
    "sys.path.append('helper_functions/')\n",
    "# import util as util\n",
    "import util"
   ]
  },
  {
   "cell_type": "code",
   "execution_count": 2,
   "id": "0abf73f6-a742-4671-9809-9ff0f3192e26",
   "metadata": {},
   "outputs": [],
   "source": [
    "from pymongo import MongoClient\n",
    "\n",
    "client = MongoClient()\n",
    "db = client.airbnb\n",
    "\n"
   ]
  },
  {
   "cell_type": "code",
   "execution_count": 25,
   "id": "5839fbc1-df70-4c00-b04a-21e63bd1f529",
   "metadata": {},
   "outputs": [
    {
     "data": {
      "text/plain": [
       "'id_1'"
      ]
     },
     "execution_count": 25,
     "metadata": {},
     "output_type": "execute_result"
    }
   ],
   "source": [
    "\n",
    "db.listings_with_reviews_m.create_index('id')\n",
    "\n",
    "# Create index on 'id' in the listings_with_calendar collection\n",
    "db.listings_with_calendar.create_index('id')"
   ]
  },
  {
   "cell_type": "code",
   "execution_count": 26,
   "id": "79640fbf-0a56-4f99-8e9e-5aa3ea33793a",
   "metadata": {},
   "outputs": [
    {
     "data": {
      "text/plain": [
       "<pymongo.command_cursor.CommandCursor at 0x13f36d54a10>"
      ]
     },
     "execution_count": 26,
     "metadata": {},
     "output_type": "execute_result"
    }
   ],
   "source": [
    "db.listings_with_reviews_and_cal.drop()\n",
    "\n",
    "pipeline = [\n",
    "    {\n",
    "        '$lookup': {\n",
    "            'from': 'listings_with_calendar',\n",
    "            'localField': 'id',\n",
    "            'foreignField': 'id', \n",
    "            'as': 'cal_docs'\n",
    "        }\n",
    "    },\n",
    "    {\n",
    "        '$unwind': {\n",
    "            'path': '$cal_docs',\n",
    "            'preserveNullAndEmptyArrays': True\n",
    "        }\n",
    "    },\n",
    "    {\n",
    "        '$addFields': {\n",
    "            'average_price': '$cal_docs.average_price',\n",
    "            'first_available_date': '$cal_docs.first_available_date',\n",
    "            'last_available_date': '$cal_docs.last_available_date',\n",
    "            'dates_list': '$cal_docs.dates_list'\n",
    "        }\n",
    "    },\n",
    "    {\n",
    "        '$unset': 'cal_docs'\n",
    "    },\n",
    "    {\n",
    "        '$out': 'listings_with_reviews_and_cal'\n",
    "    }\n",
    "]\n",
    "\n",
    "# Execute the aggregation pipeline\n",
    "db.listings_with_reviews_m.aggregate(pipeline)\n"
   ]
  },
  {
   "cell_type": "code",
   "execution_count": 3,
   "id": "268eee90-efb2-44ca-8f47-bac201b02800",
   "metadata": {},
   "outputs": [
    {
     "name": "stdout",
     "output_type": "stream",
     "text": [
      "39202\n"
     ]
    }
   ],
   "source": [
    "print(db.listings_with_reviews_and_cal.count_documents({}))"
   ]
  },
  {
   "cell_type": "code",
   "execution_count": 51,
   "id": "a0c60f50-f7f9-4f61-8ea4-46dba25ccd55",
   "metadata": {},
   "outputs": [
    {
     "name": "stdout",
     "output_type": "stream",
     "text": [
      "JSON file created successfully.\n"
     ]
    }
   ],
   "source": [
    "importlib.reload(util)\n",
    "\n",
    "\n",
    "query = {'id': {'$regex': '^1000'}}\n",
    "documents = list(db.listings_with_reviews_and_cal.find(query))\n",
    "\n",
    "# Clean documents\n",
    "documents = [util.clean_document(doc) for doc in documents]\n",
    "\n",
    "\n",
    "# Check for datetime objects in cleaned documents\n",
    "util.check_for_datetime(documents)\n",
    "\n",
    "\n",
    "\n",
    "with open('listings_with_reviews_and_cal_subset_1000.json', 'w') as f:\n",
    "    json.dump(documents, f, indent=4, cls=CustomJSONEncoder)\n",
    "\n",
    "print(\"JSON file created successfully.\")\n"
   ]
  }
 ],
 "metadata": {
  "kernelspec": {
   "display_name": "Python 3 (ipykernel)",
   "language": "python",
   "name": "python3"
  },
  "language_info": {
   "codemirror_mode": {
    "name": "ipython",
    "version": 3
   },
   "file_extension": ".py",
   "mimetype": "text/x-python",
   "name": "python",
   "nbconvert_exporter": "python",
   "pygments_lexer": "ipython3",
   "version": "3.11.5"
  }
 },
 "nbformat": 4,
 "nbformat_minor": 5
}
